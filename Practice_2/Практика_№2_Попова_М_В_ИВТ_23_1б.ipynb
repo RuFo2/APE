{
  "nbformat": 4,
  "nbformat_minor": 0,
  "metadata": {
    "colab": {
      "provenance": [],
      "collapsed_sections": [
        "HAVFiCLPo28O"
      ],
      "toc_visible": true
    },
    "kernelspec": {
      "name": "python3",
      "display_name": "Python 3"
    },
    "language_info": {
      "name": "python"
    }
  },
  "cells": [
    {
      "cell_type": "markdown",
      "source": [
        "# Практика №2\n",
        "\n",
        "1. Сгенерировать, используя модуль псевдослучайных чисел `random`, или ввести с клавиатуры список целых чисел. Вывести в консоль, затем перевернуть его и снова вывести в консоль.\n",
        "\n",
        "2. Сгенерировать, используя модуль псевдослучайных чисел `random`, или ввести с клавиатуры два списка целых чисел. Вывести их в консоль. Создать новый пустой список. Добавить в него все четные (по индексу) элементы первого списка и все нечетные (по индексу) элементы второго списка. Вывести третий список в консоль.\n",
        "\n",
        "3. Сгенерировать, используя модуль псевдослучайных чисел `random`, или ввести с клавиатуры список произвольных элементов (целые числа, числа с плавающей точкой, строки). Вывести в консоль. Убрать из него все дубликаты через приведение типов. Вывести в консоль.\n",
        "\n",
        "4. Сгенерировать, используя модуль псевдослучайных чисел `random`, или ввести с клавиатуры словарь, где ключом является строка, значением — целое число или число с плавающей точкой. Вывести в консоль. Для всех уникальных значений создать кортеж, где первым элементом будет значение, вторым — список связанных с ним ключей. Собрать эти кортежи в список, вывести его в консоль.\n",
        "\n",
        "5. Сгенерировать, используя модуль псевдослучайных чисел `random`, или ввести с клавиатуры два словаря, где ключом является строка, значением — целое число или число с плавающей точкой. Вывести в консоль. Найти пересечения множеств значений словарей. Создать новый словарь, содержащий только те пары ключ-значение, значения из которых входит в пересечение. Вывести в консоль.\n",
        "\n",
        "[Ссылка на документацию функции `random`](https://docs.python.org/3/library/random.html)\n",
        "\n",
        "[Built-in Types](https://docs.python.org/3/library/stdtypes.html?highlight=tuple#tuple)"
      ],
      "metadata": {
        "id": "64JPlHixec69"
      }
    },
    {
      "cell_type": "markdown",
      "source": [
        "## Задание 1"
      ],
      "metadata": {
        "id": "HAVFiCLPo28O"
      }
    },
    {
      "cell_type": "code",
      "source": [
        "import random\n",
        "\n",
        "def generate_list(k):\n",
        "  return [random.randrange(0, 10) for _ in range(k)]\n",
        "u = generate_list(8)\n",
        "print(u)\n",
        "\n",
        "print(list(reversed(u)))"
      ],
      "metadata": {
        "id": "YyusyI57F_6_",
        "colab": {
          "base_uri": "https://localhost:8080/"
        },
        "outputId": "a391e60f-c714-46b5-a009-be608679e651"
      },
      "execution_count": 1,
      "outputs": [
        {
          "output_type": "stream",
          "name": "stdout",
          "text": [
            "[9, 2, 7, 9, 6, 6, 3, 7]\n",
            "[7, 3, 6, 6, 9, 7, 2, 9]\n"
          ]
        }
      ]
    },
    {
      "cell_type": "markdown",
      "source": [
        "## Задание 2"
      ],
      "metadata": {
        "id": "a1gbYjASfIqJ"
      }
    },
    {
      "cell_type": "code",
      "source": [
        "import random\n",
        "\n",
        "def generate_list(k):\n",
        "    return [random.randrange(0, 10) for _ in range(k)]\n",
        "x1 = generate_list(8)\n",
        "x2 = generate_list(8)\n",
        "\n",
        "print(x1)\n",
        "print(x2)\n",
        "\n",
        "x3=[]\n",
        "\n",
        "for i in range(0, len(x1), 2):\n",
        "    x3.append(x1[i])\n",
        "\n",
        "for i in range(1, len(x2), 2):\n",
        "    x3.append(x2[i])\n",
        "\n",
        "print(x3)"
      ],
      "metadata": {
        "id": "Q0qL-Z2CGAXx",
        "colab": {
          "base_uri": "https://localhost:8080/"
        },
        "outputId": "588e0238-bdff-4bfb-8642-3e0a882f3d4f"
      },
      "execution_count": 2,
      "outputs": [
        {
          "output_type": "stream",
          "name": "stdout",
          "text": [
            "[7, 1, 5, 0, 5, 0, 8, 7]\n",
            "[4, 3, 4, 6, 1, 0, 5, 0]\n",
            "[7, 5, 5, 8, 3, 6, 0, 0]\n"
          ]
        }
      ]
    },
    {
      "cell_type": "markdown",
      "source": [
        "## Задание 3"
      ],
      "metadata": {
        "id": "ZITkT8YUfM8t"
      }
    },
    {
      "cell_type": "code",
      "source": [
        "import random\n",
        "\n",
        "def generate_list(k):\n",
        "    return [random.choice([random.randint(0,10), random.uniform(0,10), random.choice(\"gfesyhgjdf\")]) for _ in range(k)]\n",
        "x = generate_list(50)\n",
        "print(x)\n",
        "print(\"Размер списка: \", len(x))\n",
        "print(set(x))\n",
        "print(\"Размер списка без повторов: \", len(set(x)))"
      ],
      "metadata": {
        "id": "FIKNuLjQGAsW",
        "colab": {
          "base_uri": "https://localhost:8080/"
        },
        "outputId": "9569af41-c439-48ac-98e3-4c0c62ba1fb5"
      },
      "execution_count": 3,
      "outputs": [
        {
          "output_type": "stream",
          "name": "stdout",
          "text": [
            "['j', 'g', 'e', 'h', 'f', 6, 6.3889245159712384, 7, 'y', 8.326185289925988, 8.086620398447694, 'y', 3.8721905195457342, 'g', 5, 'h', 'e', 10, 1.656163869689653, 9, 'e', 'f', 9.913346100750374, 2.297029379869265, 'g', 2, 4, 0, 1.2448382060449792, 'g', 1, 7.690803098688489, 4.214745407544357, 6.442696382275016, 'd', 1.4188482314363382, 3.591785901446549, 'g', 5.847632604361886, 's', 8, 8, 1, 8, 9.942377850199644, 'f', 1, 3, 8.51918441679077, 9.776370102572884]\n",
            "Размер списка:  50\n",
            "{0, 1.656163869689653, 2.297029379869265, 3.8721905195457342, 2, 5, 6, 6.3889245159712384, 7, 8.326185289925988, 8.086620398447694, 10, 9, 9.913346100750374, 1, 7.690803098688489, 3.591785901446549, 8, 9.942377850199644, 3, 4, 5.847632604361886, 'y', 'h', 8.51918441679077, 9.776370102572884, 's', 1.4188482314363382, 'd', 'f', 4.214745407544357, 1.2448382060449792, 'j', 6.442696382275016, 'g', 'e'}\n",
            "Размер списка без повторов:  36\n"
          ]
        }
      ]
    },
    {
      "cell_type": "markdown",
      "source": [
        "## Задание 4"
      ],
      "metadata": {
        "id": "sqvNf2a6fTdY"
      }
    },
    {
      "cell_type": "code",
      "source": [
        "import random\n",
        "\n",
        "def generate_dict(k):\n",
        "    d = dict()\n",
        "    for _ in range(k):\n",
        "        variants = \"abcdefghijklmnopqrstuvwxyz\"\n",
        "        key = \"\"\n",
        "\n",
        "        while (len(key) == 0 or key in d):\n",
        "            key += random.choice(variants)\n",
        "\n",
        "        d[key] = random.choice([random.randint(0, 10), random.uniform(0, 10)])\n",
        "\n",
        "    return d\n",
        "\n",
        "def generate_list(d):\n",
        "    unique_values = dict()\n",
        "    for key, value in d.items():\n",
        "        if value not in unique_values:\n",
        "            unique_values[value] = list(key)\n",
        "        elif value in unique_values:\n",
        "            unique_values[value].append(key)\n",
        "\n",
        "    answer = []\n",
        "    for key, value in unique_values.items():\n",
        "        x = (key, value)\n",
        "        answer.append(x)\n",
        "\n",
        "    return answer\n",
        "\n",
        "\n",
        "\n",
        "d = generate_dict(15)\n",
        "print(d)\n",
        "\n",
        "answer = generate_list(d)\n",
        "print(answer)"
      ],
      "metadata": {
        "id": "4qaYZ2dMGBEr",
        "colab": {
          "base_uri": "https://localhost:8080/"
        },
        "outputId": "c93f1d9b-6f86-4f8a-acd9-54afc4ae50b0"
      },
      "execution_count": 4,
      "outputs": [
        {
          "output_type": "stream",
          "name": "stdout",
          "text": [
            "{'k': 2.514531829997849, 'h': 10, 's': 4, 'y': 0.5602128583776078, 'hg': 5, 'i': 5, 'p': 8.308666467548809, 'v': 9, 'e': 3, 'g': 3, 'u': 4, 'un': 6.010391776794036, 'is': 9.813489151242191, 'm': 7, 'a': 4.074333124900579}\n",
            "[(2.514531829997849, ['k']), (10, ['h']), (4, ['s', 'u']), (0.5602128583776078, ['y']), (5, ['h', 'g', 'i']), (8.308666467548809, ['p']), (9, ['v']), (3, ['e', 'g']), (6.010391776794036, ['u', 'n']), (9.813489151242191, ['i', 's']), (7, ['m']), (4.074333124900579, ['a'])]\n"
          ]
        }
      ]
    },
    {
      "cell_type": "markdown",
      "source": [
        "## Задание 5"
      ],
      "metadata": {
        "id": "3V5mJOBQfYHe"
      }
    },
    {
      "cell_type": "code",
      "source": [
        "import random\n",
        "\n",
        "def generate_dict(k):\n",
        "    d = dict()\n",
        "    for _ in range(k):\n",
        "        variants = \"abcdefghijklmnopqrstuvwxyz\"\n",
        "        key = \"\"\n",
        "\n",
        "        while (len(key) == 0 or key in d):\n",
        "            key += random.choice(variants)\n",
        "\n",
        "        d[key] = random.choice([random.randint(0, 10), random.uniform(0, 10)])\n",
        "\n",
        "    return d\n",
        "\n",
        "def generate_intersection(d1, d2):\n",
        "    d3 = dict()\n",
        "    intersecting_values = set(d1.values()) & set(d2.values())\n",
        "\n",
        "    for key, value in d1.items():\n",
        "        if value in intersecting_values:\n",
        "            d3[key] = value\n",
        "\n",
        "    return d3\n",
        "\n",
        "d1 = generate_dict(15)\n",
        "d2 = generate_dict(15)\n",
        "\n",
        "print(d1)\n",
        "print(d2)\n",
        "\n",
        "d3 = generate_intersection(d1, d2)\n",
        "print(d3)"
      ],
      "metadata": {
        "id": "7RJzU4DiGBXQ",
        "colab": {
          "base_uri": "https://localhost:8080/"
        },
        "outputId": "e50eeac0-5069-4ceb-9971-ffde119b0bee"
      },
      "execution_count": 5,
      "outputs": [
        {
          "output_type": "stream",
          "name": "stdout",
          "text": [
            "{'b': 3, 'o': 1, 'a': 7, 'k': 10, 'w': 6.243540705877204, 'c': 4.454623477936933, 'ks': 8, 'e': 6.903268336588372, 'f': 0.22634504110436438, 'r': 4.294532806149442, 'z': 5.457886718951171, 'ay': 2.382421368366623, 'ai': 7, 'rs': 6.62009886750905, 's': 3}\n",
            "{'y': 3, 'o': 7.855838575457046, 'h': 10, 'b': 8, 'e': 4.694317825179624, 'oh': 6, 'yd': 5, 'q': 9.9253983480497, 'ep': 7, 'a': 8.4095869981229, 'g': 4.545777996467026, 'd': 5, 'v': 2.2072667151138603, 'r': 0, 'em': 8.002672250934346}\n",
            "{'b': 3, 'a': 7, 'k': 10, 'ks': 8, 'ai': 7, 's': 3}\n"
          ]
        }
      ]
    }
  ]
}